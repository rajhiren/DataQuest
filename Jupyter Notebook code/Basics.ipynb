{
 "cells": [
  {
   "cell_type": "code",
   "execution_count": 20,
   "metadata": {
    "collapsed": true
   },
   "outputs": [],
   "source": [
    "def welcome(a_string):\n",
    "    print('Weolcome to ' + a_string + '!')\n",
    "dq = 'Dataquest'\n",
    "jn = 'Jupyter Notebook'\n",
    "py = 'Python'\n",
    "    "
   ]
  },
  {
   "cell_type": "code",
   "execution_count": 21,
   "metadata": {
    "collapsed": false
   },
   "outputs": [
    {
     "name": "stdout",
     "output_type": "stream",
     "text": [
      "Weolcome to Dataquest!\n",
      "Weolcome to Jupyter Notebook!\n",
      "Weolcome to Python!\n"
     ]
    }
   ],
   "source": [
    "welcome(dq)\n",
    "welcome(jn)\n",
    "welcome(py)"
   ]
  }
 ],
 "metadata": {
  "kernelspec": {
   "display_name": "Python 3",
   "language": "python",
   "name": "python3"
  },
  "language_info": {
   "codemirror_mode": {
    "name": "ipython",
    "version": 3
   },
   "file_extension": ".py",
   "mimetype": "text/x-python",
   "name": "python",
   "nbconvert_exporter": "python",
   "pygments_lexer": "ipython3",
   "version": "3.4.3"
  }
 },
 "nbformat": 4,
 "nbformat_minor": 2
}
