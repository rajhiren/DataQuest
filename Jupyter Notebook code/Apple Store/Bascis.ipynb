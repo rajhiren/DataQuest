{
 "cells": [
  {
   "cell_type": "markdown",
   "metadata": {},
   "source": [
    "# Apps Market Analysis for Google Play & App Store"
   ]
  },
  {
   "cell_type": "markdown",
   "metadata": {},
   "source": [
    "Aim of this project is to identify what kind of apps company \n",
    "should focus on building. We will be analysing given dataset to\n",
    "extract the information which will provide clean data which will demonstrate what kind of apps will attract more users.\n"
   ]
  },
  {
   "cell_type": "markdown",
   "metadata": {},
   "source": [
    "Our goal is to build apps which are free to download and install and which will generate significant revanue. "
   ]
  },
  {
   "cell_type": "code",
   "execution_count": 38,
   "metadata": {
    "collapsed": true
   },
   "outputs": [],
   "source": [
    "from csv import reader\n",
    "\n",
    "#-- function to get dataset\n",
    "def get_dataset(dataset_file):\n",
    "    opened_file = open(dataset_file, encoding='UTF-8')\n",
    "    read_file = reader(opened_file)\n",
    "    return list(read_file)\n",
    "    \n",
    "#-- lets get google play data\n",
    "android_dataset = get_dataset('googleplaystore.csv')\n",
    "android_header = android_dataset[0]\n",
    "android = android_dataset[1:]\n",
    "\n",
    "#-- lets get apple store data\n",
    "ios_dataset = get_dataset('AppleStore.csv')\n",
    "ios_header = ios_dataset[0]\n",
    "ios = ios_dataset[1:]\n"
   ]
  },
  {
   "cell_type": "code",
   "execution_count": 39,
   "metadata": {
    "collapsed": true
   },
   "outputs": [],
   "source": [
    "#-- function to explore given dataset\n",
    "def explore_data(dataset, start, end, rows_and_columns=False):\n",
    "    dataset_slice = dataset[start:end]\n",
    "    for row in dataset_slice:\n",
    "        print(row)\n",
    "        print('\\n')  # adds new line after every row\n",
    "    if rows_and_columns:\n",
    "        print('Number of Rows :', len(dataset))\n",
    "        print('Number of Columns :', len(dataset[0]))"
   ]
  },
  {
   "cell_type": "code",
   "execution_count": 40,
   "metadata": {
    "collapsed": false
   },
   "outputs": [
    {
     "name": "stdout",
     "output_type": "stream",
     "text": [
      "['App', 'Category', 'Rating', 'Reviews', 'Size', 'Installs', 'Type', 'Price', 'Content Rating', 'Genres', 'Last Updated', 'Current Ver', 'Android Ver']\n",
      "['Photo Editor & Candy Camera & Grid & ScrapBook', 'ART_AND_DESIGN', '4.1', '159', '19M', '10,000+', 'Free', '0', 'Everyone', 'Art & Design', 'January 7, 2018', '1.0.0', '4.0.3 and up']\n",
      "\n",
      "\n",
      "['Coloring book moana', 'ART_AND_DESIGN', '3.9', '967', '14M', '500,000+', 'Free', '0', 'Everyone', 'Art & Design;Pretend Play', 'January 15, 2018', '2.0.0', '4.0.3 and up']\n",
      "\n",
      "\n",
      "['U Launcher Lite – FREE Live Cool Themes, Hide Apps', 'ART_AND_DESIGN', '4.7', '87510', '8.7M', '5,000,000+', 'Free', '0', 'Everyone', 'Art & Design', 'August 1, 2018', '1.2.4', '4.0.3 and up']\n",
      "\n",
      "\n",
      "Number of Rows : 10841\n",
      "Number of Columns : 13\n",
      "['id', 'track_name', 'size_bytes', 'currency', 'price', 'rating_count_tot', 'rating_count_ver', 'user_rating', 'user_rating_ver', 'ver', 'cont_rating', 'prime_genre', 'sup_devices.num', 'ipadSc_urls.num', 'lang.num', 'vpp_lic']\n",
      "['284882215', 'Facebook', '389879808', 'USD', '0.0', '2974676', '212', '3.5', '3.5', '95.0', '4+', 'Social Networking', '37', '1', '29', '1']\n",
      "\n",
      "\n",
      "['389801252', 'Instagram', '113954816', 'USD', '0.0', '2161558', '1289', '4.5', '4.0', '10.23', '12+', 'Photo & Video', '37', '0', '29', '1']\n",
      "\n",
      "\n",
      "['529479190', 'Clash of Clans', '116476928', 'USD', '0.0', '2130805', '579', '4.5', '4.5', '9.24.12', '9+', 'Games', '38', '5', '18', '1']\n",
      "\n",
      "\n",
      "Number of Rows : 7197\n",
      "Number of Columns : 16\n"
     ]
    }
   ],
   "source": [
    "print(android_header)\n",
    "explore_data(android,0, 3, True)\n",
    "\n",
    "print(ios_header)\n",
    "explore_data(ios,0, 3, True)"
   ]
  },
  {
   "cell_type": "code",
   "execution_count": 41,
   "metadata": {
    "collapsed": false
   },
   "outputs": [
    {
     "name": "stdout",
     "output_type": "stream",
     "text": [
      "['Life Made WI-Fi Touchscreen Photo Frame', '1.9', '19', '3.0M', '1,000+', 'Free', '0', 'Everyone', '', 'February 11, 2018', '1.0.19', '4.0 and up']\n",
      "['App', 'Category', 'Rating', 'Reviews', 'Size', 'Installs', 'Type', 'Price', 'Content Rating', 'Genres', 'Last Updated', 'Current Ver', 'Android Ver']\n",
      "['Photo Editor & Candy Camera & Grid & ScrapBook', 'ART_AND_DESIGN', '4.1', '159', '19M', '10,000+', 'Free', '0', 'Everyone', 'Art & Design', 'January 7, 2018', '1.0.0', '4.0.3 and up']\n"
     ]
    }
   ],
   "source": [
    "print(android[10472])\n",
    "print(android_header)\n",
    "print(android[0])"
   ]
  },
  {
   "cell_type": "code",
   "execution_count": 42,
   "metadata": {
    "collapsed": false
   },
   "outputs": [
    {
     "name": "stdout",
     "output_type": "stream",
     "text": [
      "12\n",
      "13\n"
     ]
    }
   ],
   "source": [
    "print(len(android[10472]))\n",
    "print(len(android[0]))"
   ]
  },
  {
   "cell_type": "code",
   "execution_count": 43,
   "metadata": {
    "collapsed": true
   },
   "outputs": [],
   "source": [
    "#-- lets be smart about it and remove all the rows which doesn't match \n",
    "#-- header length\n",
    "def remove_dirty_rows(dataset, header, counter=0):\n",
    "    for row in dataset:\n",
    "        if len(row) != len(header):\n",
    "            del dataset[counter]\n",
    "        counter += 1\n",
    "    return dataset\n",
    "\n",
    "android = remove_dirty_rows(android, android_header)\n",
    "ios = remove_dirty_rows(ios,ios_header)"
   ]
  },
  {
   "cell_type": "markdown",
   "metadata": {},
   "source": [
    "# Cleaning Duplicated rows\n",
    "\n",
    "    There are some rows which have been duplicated in this dataset, which means if we don't remove those rows then it will affect our confidence level in clean data. \n",
    "    In next step we will be looking at techniques where we will first print some of these duplicated rows and apps and later stage we will use the most recent row or row which makes more sense"
   ]
  },
  {
   "cell_type": "code",
   "execution_count": 44,
   "metadata": {
    "collapsed": false
   },
   "outputs": [
    {
     "name": "stdout",
     "output_type": "stream",
     "text": [
      "['Instagram', 'SOCIAL', '4.5', '66577313', 'Varies with device', '1,000,000,000+', 'Free', '0', 'Teen', 'Social', 'July 31, 2018', 'Varies with device', 'Varies with device']\n",
      "['Instagram', 'SOCIAL', '4.5', '66577446', 'Varies with device', '1,000,000,000+', 'Free', '0', 'Teen', 'Social', 'July 31, 2018', 'Varies with device', 'Varies with device']\n",
      "['Instagram', 'SOCIAL', '4.5', '66577313', 'Varies with device', '1,000,000,000+', 'Free', '0', 'Teen', 'Social', 'July 31, 2018', 'Varies with device', 'Varies with device']\n",
      "['Instagram', 'SOCIAL', '4.5', '66509917', 'Varies with device', '1,000,000,000+', 'Free', '0', 'Teen', 'Social', 'July 31, 2018', 'Varies with device', 'Varies with device']\n"
     ]
    }
   ],
   "source": [
    "for app in android:\n",
    "    name = app[0]\n",
    "    if name == 'Instagram':\n",
    "        print(app)"
   ]
  },
  {
   "cell_type": "code",
   "execution_count": 45,
   "metadata": {
    "collapsed": false
   },
   "outputs": [
    {
     "name": "stdout",
     "output_type": "stream",
     "text": [
      "1181\n",
      "9659\n"
     ]
    }
   ],
   "source": [
    "# -- function to get duplicate and unique apps\n",
    "def get_duplicate_rows(dataset):\n",
    "    duplicate_apps = []\n",
    "    unique_apps = []\n",
    "    for app in dataset:\n",
    "        name = app[0]\n",
    "        if name in unique_apps:\n",
    "            duplicate_apps.append(name)\n",
    "        else:\n",
    "            unique_apps.append(name)\n",
    "    return (duplicate_apps,unique_apps)\n",
    "\n",
    "\n",
    "(android_duplicates,android_unique) = get_duplicate_rows(android)\n",
    "\n",
    "print(len(android_duplicates))\n",
    "print(len(android_unique))"
   ]
  },
  {
   "cell_type": "code",
   "execution_count": 46,
   "metadata": {
    "collapsed": false
   },
   "outputs": [
    {
     "name": "stdout",
     "output_type": "stream",
     "text": [
      "9659\n"
     ]
    }
   ],
   "source": [
    "\n",
    "reviews_max = {}\n",
    "\n",
    "for row in android:\n",
    "    name = row[0]\n",
    "    n_reviews = float(row[3])\n",
    "    if name in reviews_max and reviews_max[name] < n_reviews:\n",
    "        reviews_max[name] = n_reviews\n",
    "    elif name not in reviews_max:\n",
    "        reviews_max[name] = n_reviews\n",
    "\n",
    "print(len(reviews_max))"
   ]
  },
  {
   "cell_type": "code",
   "execution_count": 47,
   "metadata": {
    "collapsed": false
   },
   "outputs": [
    {
     "name": "stdout",
     "output_type": "stream",
     "text": [
      "['Photo Editor & Candy Camera & Grid & ScrapBook', 'ART_AND_DESIGN', '4.1', '159', '19M', '10,000+', 'Free', '0', 'Everyone', 'Art & Design', 'January 7, 2018', '1.0.0', '4.0.3 and up']\n",
      "\n",
      "\n",
      "['U Launcher Lite – FREE Live Cool Themes, Hide Apps', 'ART_AND_DESIGN', '4.7', '87510', '8.7M', '5,000,000+', 'Free', '0', 'Everyone', 'Art & Design', 'August 1, 2018', '1.2.4', '4.0.3 and up']\n",
      "\n",
      "\n",
      "['Sketch - Draw & Paint', 'ART_AND_DESIGN', '4.5', '215644', '25M', '50,000,000+', 'Free', '0', 'Teen', 'Art & Design', 'June 8, 2018', 'Varies with device', '4.2 and up']\n",
      "\n",
      "\n",
      "Number of Rows : 9659\n",
      "Number of Columns : 13\n"
     ]
    }
   ],
   "source": [
    "android_clean = []\n",
    "already_added = []\n",
    "\n",
    "for row in android:\n",
    "    name = row[0]\n",
    "    n_reviews = float(row[3])\n",
    "\n",
    "    if (n_reviews == reviews_max[name]) and (name not in already_added):\n",
    "        android_clean.append(row)\n",
    "        already_added.append(name) # make sure this is inside the if block\n",
    "\n",
    "explore_data(android_clean, 0, 3, True)\n"
   ]
  },
  {
   "cell_type": "code",
   "execution_count": 48,
   "metadata": {
    "collapsed": false
   },
   "outputs": [
    {
     "name": "stdout",
     "output_type": "stream",
     "text": [
      "True\n",
      "False\n",
      "True\n",
      "True\n"
     ]
    }
   ],
   "source": [
    "def is_this_string_non_english(string):\n",
    "    non_ascii = 0\n",
    "    for character in string:\n",
    "        if ord(character) > 127:\n",
    "            non_ascii += 1\n",
    "    if non_ascii > 3:\n",
    "        return False\n",
    "    else:\n",
    "        return True\n",
    "\n",
    "        \n",
    "print(is_this_string_non_english('Instagram'))\n",
    "print(is_this_string_non_english('爱奇艺PPS -《欢乐颂2》电视剧热播'))\n",
    "print(is_this_string_non_english('Docs To Go™ Free Office Suite'))\n",
    "print(is_this_string_non_english('Instachat 😜'))"
   ]
  },
  {
   "cell_type": "code",
   "execution_count": 49,
   "metadata": {
    "collapsed": false,
    "scrolled": true
   },
   "outputs": [
    {
     "name": "stdout",
     "output_type": "stream",
     "text": [
      "['Photo Editor & Candy Camera & Grid & ScrapBook', 'ART_AND_DESIGN', '4.1', '159', '19M', '10,000+', 'Free', '0', 'Everyone', 'Art & Design', 'January 7, 2018', '1.0.0', '4.0.3 and up']\n",
      "\n",
      "\n",
      "['U Launcher Lite – FREE Live Cool Themes, Hide Apps', 'ART_AND_DESIGN', '4.7', '87510', '8.7M', '5,000,000+', 'Free', '0', 'Everyone', 'Art & Design', 'August 1, 2018', '1.2.4', '4.0.3 and up']\n",
      "\n",
      "\n",
      "['Sketch - Draw & Paint', 'ART_AND_DESIGN', '4.5', '215644', '25M', '50,000,000+', 'Free', '0', 'Teen', 'Art & Design', 'June 8, 2018', 'Varies with device', '4.2 and up']\n",
      "\n",
      "\n",
      "Number of Rows : 9614\n",
      "Number of Columns : 13\n",
      "\n",
      "\n",
      "['284882215', 'Facebook', '389879808', 'USD', '0.0', '2974676', '212', '3.5', '3.5', '95.0', '4+', 'Social Networking', '37', '1', '29', '1']\n",
      "\n",
      "\n",
      "['389801252', 'Instagram', '113954816', 'USD', '0.0', '2161558', '1289', '4.5', '4.0', '10.23', '12+', 'Photo & Video', '37', '0', '29', '1']\n",
      "\n",
      "\n",
      "['529479190', 'Clash of Clans', '116476928', 'USD', '0.0', '2130805', '579', '4.5', '4.5', '9.24.12', '9+', 'Games', '38', '5', '18', '1']\n",
      "\n",
      "\n",
      "Number of Rows : 6183\n",
      "Number of Columns : 16\n"
     ]
    }
   ],
   "source": [
    "\n",
    "def get_english_apps(dataset):\n",
    "    english_apps = []\n",
    "    non_english_apps = []\n",
    "    for row in dataset:\n",
    "        if is_this_string_non_english(row[0]):\n",
    "            english_apps.append(row)\n",
    "        else:\n",
    "            non_english_apps.append(row)\n",
    "    return english_apps, non_english_apps\n",
    "\n",
    "\n",
    "ios_english = []\n",
    "for app in ios:\n",
    "    name = app[1]\n",
    "    if is_this_string_non_english(name):\n",
    "        ios_english.append(app)\n",
    "\n",
    "(android_english, android_non_english) = get_english_apps(android_clean)\n",
    "# (ios_english, ios_non_english) = get_english_apps(ios)\n",
    "\n",
    "     \n",
    "explore_data(android_english, 0, 3, True)\n",
    "print('\\n')\n",
    "explore_data(ios_english, 0, 3, True)"
   ]
  },
  {
   "cell_type": "code",
   "execution_count": 50,
   "metadata": {
    "collapsed": true
   },
   "outputs": [],
   "source": [
    "def freq_table(dataset, index):\n",
    "    table = {}\n",
    "    total = 0\n",
    "    \n",
    "    for row in dataset:\n",
    "        total += 1\n",
    "        value = row[index]\n",
    "        if value in table:\n",
    "            table[value] += 1\n",
    "        else:\n",
    "            table[value] = 1\n",
    "    \n",
    "    table_percentages = {}\n",
    "    for key in table:\n",
    "        percentage = (table[key] / total) * 100\n",
    "        table_percentages[key] = percentage \n",
    "    \n",
    "    return table_percentages\n",
    "\n",
    "\n",
    "def display_table(dataset, index):\n",
    "    table = freq_table(dataset, index)\n",
    "    table_display = []\n",
    "    for key in table:\n",
    "        key_val_as_tuple = (table[key], key)\n",
    "        table_display.append(key_val_as_tuple)\n",
    "        \n",
    "    table_sorted = sorted(table_display, reverse = True)\n",
    "    for entry in table_sorted:\n",
    "        print(entry[1], ':', entry[0])\n",
    "    "
   ]
  },
  {
   "cell_type": "code",
   "execution_count": 53,
   "metadata": {
    "collapsed": false
   },
   "outputs": [
    {
     "name": "stdout",
     "output_type": "stream",
     "text": [
      "Games : 54.860100274947435\n",
      "Entertainment : 7.261846999838266\n",
      "Education : 6.6310852337053205\n",
      "Photo & Video : 5.515122109008572\n",
      "Utilities : 3.4449296458030085\n",
      "Productivity : 2.7171276079573023\n",
      "Health & Fitness : 2.6686074721009216\n",
      "Music : 2.215752870774705\n",
      "Social Networking : 2.037845705967977\n",
      "Sports : 1.6820313763545207\n",
      "Lifestyle : 1.6011644832605532\n",
      "Shopping : 1.3747371825974446\n",
      "Weather : 1.1159631246967492\n",
      "Travel : 0.9704027171276078\n",
      "News : 0.9218825812712276\n",
      "Book : 0.8895358240336406\n",
      "Reference : 0.8571890667960537\n",
      "Business : 0.8571890667960537\n",
      "Finance : 0.7924955523208799\n",
      "Food & Drink : 0.7116286592269124\n",
      "Navigation : 0.452854601326217\n",
      "Medical : 0.3396409509946628\n",
      "Catalogs : 0.08086689309396733\n"
     ]
    }
   ],
   "source": [
    "display_table(ios_english,-5)"
   ]
  },
  {
   "cell_type": "code",
   "execution_count": 55,
   "metadata": {
    "collapsed": false
   },
   "outputs": [
    {
     "name": "stdout",
     "output_type": "stream",
     "text": [
      "FAMILY : 19.325982941543582\n",
      "GAME : 9.819013938007073\n",
      "TOOLS : 8.61244019138756\n",
      "BUSINESS : 4.358227584772207\n",
      "MEDICAL : 4.108591637195756\n",
      "PERSONALIZATION : 3.900561680882047\n",
      "PRODUCTIVITY : 3.879758685250676\n",
      "LIFESTYLE : 3.786145204909507\n",
      "FINANCE : 3.588516746411483\n",
      "SPORTS : 3.3804867900977738\n",
      "COMMUNICATION : 3.2660703141252343\n",
      "HEALTH_AND_FITNESS : 2.995631370917412\n",
      "PHOTOGRAPHY : 2.9124193883919283\n",
      "NEWS_AND_MAGAZINES : 2.600374453921365\n",
      "SOCIAL : 2.485957977948825\n",
      "TRAVEL_AND_LOCAL : 2.2779280216351157\n",
      "BOOKS_AND_REFERENCE : 2.26752652381943\n",
      "SHOPPING : 2.090701060952777\n",
      "DATING : 1.768254628666528\n",
      "VIDEO_PLAYERS : 1.6954441439567296\n",
      "MAPS_AND_NAVIGATION : 1.3417932182234242\n",
      "FOOD_AND_DRINK : 1.1649677553567712\n",
      "EDUCATION : 1.1025587684626585\n",
      "ENTERTAINMENT : 0.9049303099646349\n",
      "LIBRARIES_AND_DEMO : 0.8737258165175785\n",
      "AUTO_AND_VEHICLES : 0.8737258165175785\n",
      "WEATHER : 0.8217183274391513\n",
      "HOUSE_AND_HOME : 0.7593093405450385\n",
      "EVENTS : 0.6656958602038693\n",
      "PARENTING : 0.6240898689411275\n",
      "ART_AND_DESIGN : 0.6240898689411275\n",
      "COMICS : 0.5720823798627002\n",
      "BEAUTY : 0.5512793842313293\n"
     ]
    }
   ],
   "source": [
    "display_table(android_english, 1) # Category"
   ]
  },
  {
   "cell_type": "code",
   "execution_count": 56,
   "metadata": {
    "collapsed": false
   },
   "outputs": [
    {
     "name": "stdout",
     "output_type": "stream",
     "text": [
      "Tools : 8.602038693571874\n",
      "Entertainment : 5.793634283336801\n",
      "Education : 5.231953401289786\n",
      "Business : 4.358227584772207\n",
      "Medical : 4.108591637195756\n",
      "Personalization : 3.900561680882047\n",
      "Productivity : 3.879758685250676\n",
      "Lifestyle : 3.775743707093822\n",
      "Finance : 3.588516746411483\n",
      "Sports : 3.442895776991887\n",
      "Communication : 3.2660703141252343\n",
      "Action : 3.110047846889952\n",
      "Health & Fitness : 2.995631370917412\n",
      "Photography : 2.9124193883919283\n",
      "News & Magazines : 2.600374453921365\n",
      "Social : 2.485957977948825\n",
      "Travel & Local : 2.26752652381943\n",
      "Books & Reference : 2.26752652381943\n",
      "Shopping : 2.090701060952777\n",
      "Simulation : 1.9762845849802373\n",
      "Arcade : 1.9138755980861244\n",
      "Dating : 1.768254628666528\n",
      "Casual : 1.7162471395881007\n",
      "Video Players & Editors : 1.674641148325359\n",
      "Maps & Navigation : 1.3417932182234242\n",
      "Puzzle : 1.2377782400665696\n",
      "Food & Drink : 1.1649677553567712\n",
      "Role Playing : 1.0817557728312877\n",
      "Strategy : 0.9777407946744331\n",
      "Racing : 0.9465363012273768\n",
      "Libraries & Demo : 0.8737258165175785\n",
      "Auto & Vehicles : 0.8737258165175785\n",
      "Weather : 0.8217183274391513\n",
      "House & Home : 0.7593093405450385\n",
      "Adventure : 0.748907842729353\n",
      "Events : 0.6656958602038693\n",
      "Art & Design : 0.5824838776783856\n",
      "Comics : 0.5616808820470147\n",
      "Beauty : 0.5512793842313293\n",
      "Card : 0.48887039733721654\n",
      "Parenting : 0.4784688995215311\n",
      "Board : 0.43686290825878926\n",
      "Casino : 0.40565841481173287\n",
      "Educational;Education : 0.3952569169960474\n",
      "Trivia : 0.384855419180362\n",
      "Educational : 0.384855419180362\n",
      "Education;Education : 0.36405242354899103\n",
      "Casual;Pretend Play : 0.26003744539213647\n",
      "Word : 0.23923444976076555\n",
      "Music : 0.1976284584980237\n",
      "Puzzle;Brain Games : 0.1768254628666528\n",
      "Education;Pretend Play : 0.1768254628666528\n",
      "Racing;Action & Adventure : 0.16642396505096732\n",
      "Entertainment;Music & Video : 0.15602246723528188\n",
      "Board;Brain Games : 0.1456209694195964\n",
      "Arcade;Action & Adventure : 0.1456209694195964\n",
      "Educational;Pretend Play : 0.13521947160391096\n",
      "Casual;Action & Adventure : 0.13521947160391096\n",
      "Casual;Brain Games : 0.1248179737882255\n",
      "Action;Action & Adventure : 0.1248179737882255\n",
      "Simulation;Action & Adventure : 0.0728104847097982\n",
      "Parenting;Education : 0.0728104847097982\n",
      "Entertainment;Brain Games : 0.0728104847097982\n",
      "Parenting;Music & Video : 0.06240898689411275\n",
      "Educational;Brain Games : 0.06240898689411275\n",
      "Education;Creativity : 0.06240898689411275\n",
      "Casual;Creativity : 0.06240898689411275\n",
      "Art & Design;Creativity : 0.06240898689411275\n",
      "Educational;Creativity : 0.052007489078427296\n",
      "Adventure;Action & Adventure : 0.052007489078427296\n",
      "Sports;Action & Adventure : 0.04160599126274183\n",
      "Role Playing;Pretend Play : 0.04160599126274183\n",
      "Role Playing;Action & Adventure : 0.04160599126274183\n",
      "Education;Brain Games : 0.04160599126274183\n",
      "Education;Action & Adventure : 0.04160599126274183\n",
      "Simulation;Pretend Play : 0.031204493447056374\n",
      "Simulation;Education : 0.031204493447056374\n",
      "Puzzle;Action & Adventure : 0.031204493447056374\n",
      "Music;Music & Video : 0.031204493447056374\n",
      "Entertainment;Creativity : 0.031204493447056374\n",
      "Entertainment;Action & Adventure : 0.031204493447056374\n",
      "Educational;Action & Adventure : 0.031204493447056374\n",
      "Education;Music & Video : 0.031204493447056374\n",
      "Casual;Education : 0.031204493447056374\n",
      "Board;Action & Adventure : 0.031204493447056374\n",
      "Video Players & Editors;Music & Video : 0.020802995631370915\n",
      "Strategy;Action & Adventure : 0.020802995631370915\n",
      "Puzzle;Creativity : 0.020802995631370915\n",
      "Entertainment;Pretend Play : 0.020802995631370915\n",
      "Card;Action & Adventure : 0.020802995631370915\n",
      "Books & Reference;Education : 0.020802995631370915\n",
      "Video Players & Editors;Creativity : 0.010401497815685458\n",
      "Trivia;Education : 0.010401497815685458\n",
      "Travel & Local;Action & Adventure : 0.010401497815685458\n",
      "Tools;Education : 0.010401497815685458\n",
      "Strategy;Education : 0.010401497815685458\n",
      "Strategy;Creativity : 0.010401497815685458\n",
      "Role Playing;Education : 0.010401497815685458\n",
      "Role Playing;Brain Games : 0.010401497815685458\n",
      "Racing;Pretend Play : 0.010401497815685458\n",
      "Puzzle;Education : 0.010401497815685458\n",
      "Parenting;Brain Games : 0.010401497815685458\n",
      "Music & Audio;Music & Video : 0.010401497815685458\n",
      "Lifestyle;Pretend Play : 0.010401497815685458\n",
      "Lifestyle;Education : 0.010401497815685458\n",
      "Health & Fitness;Education : 0.010401497815685458\n",
      "Health & Fitness;Action & Adventure : 0.010401497815685458\n",
      "Entertainment;Education : 0.010401497815685458\n",
      "Communication;Creativity : 0.010401497815685458\n",
      "Comics;Creativity : 0.010401497815685458\n",
      "Casual;Music & Video : 0.010401497815685458\n",
      "Books & Reference;Creativity : 0.010401497815685458\n",
      "Board;Pretend Play : 0.010401497815685458\n",
      "Art & Design;Pretend Play : 0.010401497815685458\n",
      "Art & Design;Action & Adventure : 0.010401497815685458\n",
      "Arcade;Pretend Play : 0.010401497815685458\n",
      "Adventure;Education : 0.010401497815685458\n",
      "Adventure;Brain Games : 0.010401497815685458\n"
     ]
    }
   ],
   "source": [
    "display_table(android_english, -4)"
   ]
  },
  {
   "cell_type": "code",
   "execution_count": 59,
   "metadata": {
    "collapsed": false
   },
   "outputs": [
    {
     "name": "stdout",
     "output_type": "stream",
     "text": [
      "Food & Drink : 19934.386363636364\n",
      "Education : 2472.278048780488\n",
      "Lifestyle : 8930.373737373737\n",
      "News : 16980.315789473683\n",
      "Social Networking : 60253.84920634921\n",
      "Games : 15586.759433962265\n",
      "Utilities : 7927.525821596244\n",
      "Medical : 648.952380952381\n",
      "Travel : 19030.183333333334\n",
      "Health & Fitness : 10802.157575757576\n",
      "Business : 5149.320754716981\n",
      "Weather : 23145.246376811596\n",
      "Reference : 27037.188679245282\n",
      "Catalogs : 3465.0\n",
      "Navigation : 19370.821428571428\n",
      "Shopping : 26635.011764705883\n",
      "Book : 10359.2\n",
      "Sports : 15350.913461538461\n",
      "Productivity : 8508.089285714286\n",
      "Entertainment : 8862.409799554565\n",
      "Photo & Video : 14688.715542521993\n",
      "Finance : 23353.530612244896\n",
      "Music : 29047.109489051094\n"
     ]
    }
   ],
   "source": [
    "genres_ios = freq_table(ios_english, -5)\n",
    "\n",
    "for genre in genres_ios:\n",
    "    total = 0\n",
    "    len_genre = 0\n",
    "    for app in ios_english:\n",
    "        genre_app = app[-5]\n",
    "        if genre_app == genre:            \n",
    "            n_ratings = float(app[5])\n",
    "            total += n_ratings\n",
    "            len_genre += 1\n",
    "    avg_n_ratings = total / len_genre\n",
    "    print(genre, ':', avg_n_ratings)"
   ]
  },
  {
   "cell_type": "code",
   "execution_count": 61,
   "metadata": {
    "collapsed": false
   },
   "outputs": [
    {
     "name": "stdout",
     "output_type": "stream",
     "text": [
      "Waze - GPS Navigation, Maps & Real-time Traffic : 345046\n",
      "Google Maps - Navigation & Transit : 154911\n",
      "MotionX GPS : 14970\n",
      "Geocaching® : 12811\n",
      "CoPilot GPS – Car Navigation & Offline Maps : 3582\n",
      "Gaia GPS Classic : 2429\n",
      "Plane Finder - Flight Tracker : 1438\n",
      "iMaps+ for Google Maps ™ and Street View ™ : Transit and Offline Contacts : 1225\n",
      "NAVIGON Europe : 927\n",
      "Localscope - Find places and people around you : 868\n",
      "Ski Tracks : 829\n",
      "TRANSPORT MODS for MINECRAFT Pc EDITION : 754\n",
      "Pocket Earth PRO Offline Maps & Travel Guides : 748\n",
      "Ship Finder : 624\n",
      "Boating USA : 342\n",
      "Maps 3D PRO - GPS for Bike, Hike, Ski & Outdoor : 280\n",
      "Cachly - Simple and powerful Geocaching for iPhone : 263\n",
      "ImmobilienScout24: Real Estate Search in Germany : 187\n",
      "The JMU Bus App : 35\n",
      "Avertinoo : 32\n",
      "iStellar : 30\n",
      "mySTATE - State College : 26\n",
      "Road watcher: dash camera, car video recorder. : 10\n",
      "Streets – Street View Browser : 10\n",
      "Railway Route Search : 5\n",
      "parkOmator – for Apple Watch meter expiration timer, notifications & GPS navigator to car location : 1\n",
      "ZuumSpeed Customizable Speedometer + HUD : 0\n",
      "BringGo Western Europe : 0\n"
     ]
    }
   ],
   "source": [
    "for app in ios_english:\n",
    "    if app[-5] == 'Navigation':\n",
    "        print(app[1], ':', app[5]) # printing name and number of ratings"
   ]
  },
  {
   "cell_type": "code",
   "execution_count": 62,
   "metadata": {
    "collapsed": false
   },
   "outputs": [
    {
     "name": "stdout",
     "output_type": "stream",
     "text": [
      "Bible : 985920\n",
      "Dictionary.com Dictionary & Thesaurus : 200047\n",
      "Dictionary.com Dictionary & Thesaurus for iPad : 54175\n",
      "Google Translate : 26786\n",
      "Sky Guide: View Stars Night or Day : 22100\n",
      "Muslim Pro: Ramadan 2017 Prayer Times, Azan, Quran : 18418\n",
      "New Furniture Mods - Pocket Wiki & Game Tools for Minecraft PC Edition : 17588\n",
      "Merriam-Webster Dictionary : 16849\n",
      "Night Sky : 12122\n",
      "Dictionary.com Dictionary & Thesaurus Premium : 11530\n",
      "City Maps for Minecraft PE - The Best Maps for Minecraft Pocket Edition (MCPE) : 8535\n",
      "WolframAlpha : 7410\n",
      "e-Sword HD: Bible Study Made Easy : 7309\n",
      "iHandy Translator Pro : 5163\n",
      "Dictionary.com Premium Dictionary & Thesaurus for iPad : 4922\n",
      "LUCKY BLOCK MOD ™ for Minecraft PC Edition - The Best Pocket Wiki & Mods Installer Tools : 4693\n",
      "Speak & Translate － Live Voice and Text Translator : 4344\n",
      "National Geographic World Atlas : 4255\n",
      "Knots 3D : 3196\n",
      "iQuran : 2929\n",
      "Merriam-Webster Dictionary & Thesaurus : 2843\n",
      "e-Sword LT: Bible Study on the Go : 2152\n",
      "GUNS MODS for Minecraft PC Edition - Mods Tools : 1497\n",
      "Barefoot World Atlas : 1161\n",
      "Catholic Bible : 999\n",
      "Guides for Pokémon GO - Pokemon GO News and Cheats : 826\n",
      "WWDC : 762\n",
      "Horror Maps for Minecraft PE - Download The Scariest Maps for Minecraft Pocket Edition (MCPE) Free : 718\n",
      "CCW – Concealed Carry 50 State Guide : 644\n",
      "Voice Translator with Offline Dictionary Pro : 499\n",
      "DINOSAUR MOD FOR MINECRAFT PC EDITION - MODS POCKET GUIDE : 413\n",
      "Mutant Creatures Mod for Minecraft PC Edition - Pocket Mods Guide : 346\n",
      "Fighter Verses - memorize bible verses : 331\n",
      "DRAGON MODS MINE EDITION FOR MINECRAFT GAME PC : 318\n",
      "The World Factbook for iPad : 273\n",
      "Catholic New American Bible Revised Edition : 149\n",
      "V for Wikipedia : 134\n",
      "SkySafari 5 Plus : 108\n",
      "Great App for Who is Your Daddy version : 103\n",
      "ArtPose : 102\n",
      "ArtPose Female Edition : 85\n",
      "Cheats for FNAF World - Unlock every ending and beat the game with ease! : 84\n",
      "大辞林 : 64\n",
      "USPS StampApp for iPad : 15\n",
      "IllumiMoji : 14\n",
      "VPN Express : 14\n",
      "Dark Souls III Map Companion : 11\n",
      "Real Bike Traffic Rider Virtual Reality Glasses : 8\n",
      "Money Origami - Learn How to Fold Money : 6\n",
      "Dictionnaire Le Robert Mobile : 4 en 1 : 1\n",
      "教えて!goo : 0\n",
      "Theory Test 4-in-1 Bundle - Driving Test Success : 0\n",
      "Jishokun-Japanese English Dictionary & Translator : 0\n"
     ]
    }
   ],
   "source": [
    "for app in ios_english:\n",
    "    if app[-5] == 'Reference':\n",
    "        print(app[1], ':', app[5])"
   ]
  },
  {
   "cell_type": "code",
   "execution_count": 64,
   "metadata": {
    "collapsed": false
   },
   "outputs": [
    {
     "name": "stdout",
     "output_type": "stream",
     "text": [
      "1,000,000+ : 14.70771791137924\n",
      "100,000+ : 11.504056584148117\n",
      "10,000+ : 10.619929269814854\n",
      "10,000,000+ : 9.746203453297275\n",
      "1,000+ : 9.153318077803203\n",
      "100+ : 7.322654462242563\n",
      "5,000,000+ : 6.292906178489703\n",
      "500,000+ : 5.242354899105471\n",
      "5,000+ : 4.836696484293738\n",
      "50,000+ : 4.815893488662367\n",
      "10+ : 3.994175161223216\n",
      "500+ : 3.4116912835448305\n",
      "50,000,000+ : 2.1219055543998335\n",
      "50+ : 2.1219055543998335\n",
      "100,000,000+ : 1.9658830871645518\n",
      "5+ : 0.8529228208862076\n",
      "1+ : 0.6864988558352403\n",
      "500,000,000+ : 0.249635947576451\n",
      "1,000,000,000+ : 0.20802995631370919\n",
      "0+ : 0.13521947160391096\n",
      "0 : 0.010401497815685458\n"
     ]
    }
   ],
   "source": [
    "display_table(android_english, 5) # the Installs columns\n"
   ]
  },
  {
   "cell_type": "code",
   "execution_count": 65,
   "metadata": {
    "collapsed": false
   },
   "outputs": [
    {
     "name": "stdout",
     "output_type": "stream",
     "text": [
      "TRAVEL_AND_LOCAL : 13218662.767123288\n",
      "LIBRARIES_AND_DEMO : 630903.6904761905\n",
      "COMICS : 817657.2727272727\n",
      "SPORTS : 3373767.6861538463\n",
      "BUSINESS : 1663758.627684964\n",
      "FAMILY : 3345018.516684607\n",
      "MEDICAL : 96944.49873417722\n",
      "ENTERTAINMENT : 11375402.298850575\n",
      "HOUSE_AND_HOME : 1331540.5616438356\n",
      "BEAUTY : 513151.88679245283\n",
      "NEWS_AND_MAGAZINES : 9472807.04\n",
      "FINANCE : 1319851.4028985507\n",
      "PHOTOGRAPHY : 16636241.267857144\n",
      "GAME : 14256217.600635594\n",
      "ART_AND_DESIGN : 1887285.0\n",
      "HEALTH_AND_FITNESS : 3972300.388888889\n",
      "SHOPPING : 6966908.880597015\n",
      "EDUCATION : 1782566.0377358492\n",
      "EVENTS : 249580.640625\n",
      "DATING : 828971.2176470588\n",
      "LIFESTYLE : 1369954.7774725275\n",
      "COMMUNICATION : 35153714.17515924\n",
      "PERSONALIZATION : 4086652.4853333333\n",
      "TOOLS : 9785955.211352658\n",
      "VIDEO_PLAYERS : 24121489.079754602\n",
      "FOOD_AND_DRINK : 1891060.2767857143\n",
      "MAPS_AND_NAVIGATION : 3900634.7286821706\n",
      "PARENTING : 525351.8333333334\n",
      "BOOKS_AND_REFERENCE : 7641777.871559633\n",
      "SOCIAL : 22961790.384937238\n",
      "PRODUCTIVITY : 15530942.008042896\n",
      "AUTO_AND_VEHICLES : 632501.3214285715\n",
      "WEATHER : 4570892.658227848\n"
     ]
    }
   ],
   "source": [
    "categories_android = freq_table(android_english, 1)\n",
    "\n",
    "for category in categories_android:\n",
    "    total = 0\n",
    "    len_category = 0\n",
    "    for app in android_english:\n",
    "        category_app = app[1]\n",
    "        if category_app == category:            \n",
    "            n_installs = app[5]\n",
    "            n_installs = n_installs.replace(',', '')\n",
    "            n_installs = n_installs.replace('+', '')\n",
    "            total += float(n_installs)\n",
    "            len_category += 1\n",
    "    avg_n_installs = total / len_category\n",
    "    print(category, ':', avg_n_installs)"
   ]
  },
  {
   "cell_type": "code",
   "execution_count": 66,
   "metadata": {
    "collapsed": false
   },
   "outputs": [
    {
     "name": "stdout",
     "output_type": "stream",
     "text": [
      "WhatsApp Messenger : 1,000,000,000+\n",
      "imo beta free calls and text : 100,000,000+\n",
      "Android Messages : 100,000,000+\n",
      "Google Duo - High Quality Video Calls : 500,000,000+\n",
      "Messenger – Text and Video Chat for Free : 1,000,000,000+\n",
      "imo free video calls and chat : 500,000,000+\n",
      "Skype - free IM & video calls : 1,000,000,000+\n",
      "Who : 100,000,000+\n",
      "GO SMS Pro - Messenger, Free Themes, Emoji : 100,000,000+\n",
      "LINE: Free Calls & Messages : 500,000,000+\n",
      "Google Chrome: Fast & Secure : 1,000,000,000+\n",
      "Firefox Browser fast & private : 100,000,000+\n",
      "UC Browser - Fast Download Private & Secure : 500,000,000+\n",
      "Gmail : 1,000,000,000+\n",
      "Hangouts : 1,000,000,000+\n",
      "Messenger Lite: Free Calls & Messages : 100,000,000+\n",
      "Kik : 100,000,000+\n",
      "KakaoTalk: Free Calls & Text : 100,000,000+\n",
      "Opera Mini - fast web browser : 100,000,000+\n",
      "Opera Browser: Fast and Secure : 100,000,000+\n",
      "Telegram : 100,000,000+\n",
      "Truecaller: Caller ID, SMS spam blocking & Dialer : 100,000,000+\n",
      "UC Browser Mini -Tiny Fast Private & Secure : 100,000,000+\n",
      "Viber Messenger : 500,000,000+\n",
      "WeChat : 100,000,000+\n",
      "Yahoo Mail – Stay Organized : 100,000,000+\n",
      "BBM - Free Calls & Messages : 100,000,000+\n"
     ]
    }
   ],
   "source": [
    "for app in android_english:\n",
    "    if app[1] == 'COMMUNICATION' and (app[5] == '1,000,000,000+'\n",
    "                                      or app[5] == '500,000,000+'\n",
    "                                      or app[5] == '100,000,000+'):\n",
    "        print(app[0], ':', app[5])"
   ]
  },
  {
   "cell_type": "code",
   "execution_count": 67,
   "metadata": {
    "collapsed": false
   },
   "outputs": [
    {
     "data": {
      "text/plain": [
       "3269220.386759582"
      ]
     },
     "execution_count": 67,
     "metadata": {},
     "output_type": "execute_result"
    }
   ],
   "source": [
    "under_100_m = []\n",
    "\n",
    "for app in android_english:\n",
    "    n_installs = app[5]\n",
    "    n_installs = n_installs.replace(',', '')\n",
    "    n_installs = n_installs.replace('+', '')\n",
    "    if (app[1] == 'COMMUNICATION') and (float(n_installs) < 100000000):\n",
    "        under_100_m.append(float(n_installs))\n",
    "        \n",
    "sum(under_100_m) / len(under_100_m)"
   ]
  },
  {
   "cell_type": "code",
   "execution_count": 68,
   "metadata": {
    "collapsed": false
   },
   "outputs": [
    {
     "name": "stdout",
     "output_type": "stream",
     "text": [
      "E-Book Read - Read Book for free : 50,000+\n",
      "Download free book with green book : 100,000+\n",
      "Wikipedia : 10,000,000+\n",
      "Cool Reader : 10,000,000+\n",
      "Free Panda Radio Music : 100,000+\n",
      "Book store : 1,000,000+\n",
      "FBReader: Favorite Book Reader : 10,000,000+\n",
      "English Grammar Complete Handbook : 500,000+\n",
      "Free Books - Spirit Fanfiction and Stories : 1,000,000+\n",
      "Google Play Books : 1,000,000,000+\n",
      "AlReader -any text book reader : 5,000,000+\n",
      "Offline English Dictionary : 100,000+\n",
      "Offline: English to Tagalog Dictionary : 500,000+\n",
      "FamilySearch Tree : 1,000,000+\n",
      "Cloud of Books : 1,000,000+\n",
      "Recipes of Prophetic Medicine for free : 500,000+\n",
      "ReadEra – free ebook reader : 1,000,000+\n",
      "Anonymous caller detection : 10,000+\n",
      "Ebook Reader : 5,000,000+\n",
      "Litnet - E-books : 100,000+\n",
      "Read books online : 5,000,000+\n",
      "English to Urdu Dictionary : 500,000+\n",
      "eBoox: book reader fb2 epub zip : 1,000,000+\n",
      "English Persian Dictionary : 500,000+\n",
      "Flybook : 500,000+\n",
      "All Maths Formulas : 1,000,000+\n",
      "Ancestry : 5,000,000+\n",
      "HTC Help : 10,000,000+\n",
      "English translation from Bengali : 100,000+\n",
      "Pdf Book Download - Read Pdf Book : 100,000+\n",
      "Free Book Reader : 100,000+\n",
      "eBoox new: Reader for fb2 epub zip books : 50,000+\n",
      "Only 30 days in English, the guideline is guaranteed : 500,000+\n",
      "Moon+ Reader : 10,000,000+\n",
      "SH-02J Owner's Manual (Android 8.0) : 50,000+\n",
      "English-Myanmar Dictionary : 1,000,000+\n",
      "Golden Dictionary (EN-AR) : 1,000,000+\n",
      "All Language Translator Free : 1,000,000+\n",
      "Azpen eReader : 500,000+\n",
      "URBANO V 02 instruction manual : 100,000+\n",
      "Bible : 100,000,000+\n",
      "C Programs and Reference : 50,000+\n",
      "C Offline Tutorial : 1,000+\n",
      "C Programs Handbook : 50,000+\n",
      "Amazon Kindle : 100,000,000+\n",
      "Aab e Hayat Full Novel : 100,000+\n",
      "Aldiko Book Reader : 10,000,000+\n",
      "Google I/O 2018 : 500,000+\n",
      "R Language Reference Guide : 10,000+\n",
      "Learn R Programming Full : 5,000+\n",
      "R Programing Offline Tutorial : 1,000+\n",
      "Guide for R Programming : 5+\n",
      "Learn R Programming : 10+\n",
      "R Quick Reference Big Data : 1,000+\n",
      "Don't Panic with Andrew J. : 5,000+\n",
      "V Made : 100,000+\n",
      "Wattpad 📖 Free Books : 100,000,000+\n",
      "Dictionary - WordWeb : 5,000,000+\n",
      "Guide (for X-MEN) : 100,000+\n",
      "AC Air condition Troubleshoot,Repair,Maintenance : 5,000+\n",
      "AE Bulletins : 1,000+\n",
      "Ae Allah na Dai (Rasa) : 10,000+\n",
      "50000 Free eBooks & Free AudioBooks : 5,000,000+\n",
      "Ag PhD Field Guide : 10,000+\n",
      "Ag PhD Deficiencies : 10,000+\n",
      "Ag PhD Planting Population Calculator : 1,000+\n",
      "Ag PhD Soybean Diseases : 1,000+\n",
      "Fertilizer Removal By Crop : 50,000+\n",
      "Hey AJ! It's Saturday! : 100+\n",
      "A-J Media Vault : 50+\n",
      "Al-Quran (Free) : 10,000,000+\n",
      "Al Quran (Tafsir & by Word) : 500,000+\n",
      "Al Quran Indonesia : 10,000,000+\n",
      "Al'Quran Bahasa Indonesia : 10,000,000+\n",
      "Al Quran Al karim : 1,000,000+\n",
      "Al-Muhaffiz : 50,000+\n",
      "Al Quran : EAlim - Translations & MP3 Offline : 5,000,000+\n",
      "Al-Quran 30 Juz free copies : 500,000+\n",
      "Koran Read &MP3 30 Juz Offline : 1,000,000+\n",
      "Al'Quran Bahasa Indonesia PRO : 10,000+\n",
      "Hafizi Quran 15 lines per page : 1,000,000+\n",
      "Quran for Android : 10,000,000+\n",
      "Surah Al-Waqiah : 100,000+\n",
      "Hisnul Al Muslim - Hisn Invocations & Adhkaar : 100,000+\n",
      "Satellite AR : 1,000,000+\n",
      "Audiobooks from Audible : 100,000,000+\n",
      "Kinot & Eichah for Tisha B'Av : 10,000+\n",
      "AW Tozer Devotionals - Daily : 5,000+\n",
      "Tozer Devotional -Series 1 : 1,000+\n",
      "The Pursuit of God : 1,000+\n",
      "AY Sing : 5,000+\n",
      "Ay Hasnain k Nana Milad Naat : 10,000+\n",
      "Ay Mohabbat Teri Khatir Novel : 10,000+\n",
      "Arizona Statutes, ARS (AZ Law) : 1,000+\n",
      "Oxford A-Z of English Usage : 1,000,000+\n",
      "BC MVA Fines : 50+\n",
      "BD Fishpedia : 1,000+\n",
      "BD All Sim Offer : 10,000+\n",
      "Youboox - Livres, BD et magazines : 500,000+\n",
      "B&H Kids AR : 10,000+\n",
      "B y H Niños ES : 5,000+\n",
      "Dictionary.com: Find Definitions for English Words : 10,000,000+\n",
      "English Dictionary - Offline : 10,000,000+\n",
      "Bible KJV : 5,000,000+\n",
      "Borneo Bible, BM Bible : 10,000+\n",
      "MOD Black for BM : 100+\n",
      "BM Box : 1,000+\n",
      "Anime Mod for BM : 100+\n",
      "NOOK: Read eBooks & Magazines : 10,000,000+\n",
      "NOOK Audiobooks : 500,000+\n",
      "NOOK App for NOOK Devices : 500,000+\n",
      "Browsery by Barnes & Noble : 5,000+\n",
      "bp e-store : 1,000+\n",
      "Brilliant Quotes: Life, Love, Family & Motivation : 1,000,000+\n",
      "BR Ambedkar Biography & Quotes : 10,000+\n",
      "17th Edition Cable Sizer : 1,000+\n",
      "BU Alsace : 100+\n",
      "Catholic La Bu Zo Kam : 500+\n",
      "Khrifa Hla Bu (Solfa) : 10+\n",
      "Kristian Hla Bu : 10,000+\n",
      "SA HLA BU : 1,000+\n",
      "Learn SAP BW : 500+\n",
      "Learn SAP BW on HANA : 500+\n",
      "CA Laws 2018 (California Laws and Codes) : 5,000+\n",
      "Bootable Methods(USB-CD-DVD) : 10,000+\n",
      "ch-mm Dict : 10+\n",
      "cloudLibrary : 100,000+\n",
      "SDA Collegiate Quarterly : 500+\n",
      "Sabbath School : 100,000+\n",
      "Cypress College Library : 100+\n",
      "Stats Royale for Clash Royale : 1,000,000+\n",
      "GATE 21 years CS Papers(2011-2018 Solved) : 50+\n",
      "Learn CT Scan Of Head : 5,000+\n",
      "Easy Cv maker 2018 : 10,000+\n",
      "How to Write CV : 100,000+\n",
      "CW Nuclear : 1,000+\n",
      "CY Spray nozzle : 10+\n",
      "BibleRead En Cy Zh Yue : 5+\n",
      "CZ-70 (CZ-50) pistol explained : 10+\n",
      "CZ-52 pistol explained : 10+\n",
      "CZ-27 pistol explained : 10+\n",
      "CZ-45 pistol explained : 10+\n",
      "CZ-Help : 5+\n",
      "Pistolet CZ-70 CZ-50 expliqué : 1+\n",
      "CZ-38 (vz 38) pistol explained : 5+\n",
      "Modlitební knížka CZ : 500+\n",
      "Reksio cz. 1 : 10+\n",
      "10,000 Quotes DB (Premium) : 500+\n",
      "Guide for DB Xenoverse : 10,000+\n",
      "Guide for DB Xenoverse 2 : 10,000+\n",
      "Guide for IMS DB : 10+\n",
      "DC HSEMA : 5,000+\n",
      "DC Public Library : 1,000+\n",
      "Painting Lulu DC Super Friends : 1,000+\n",
      "Dictionary : 10,000,000+\n",
      "Fix Error Google Playstore : 1,000+\n",
      "D. H. Lawrence Poems FREE : 1,000+\n",
      "Bilingual Dictionary Audio App : 5,000+\n",
      "DM Screen : 10,000+\n",
      "Dungeons and Dragons DM Tools : 1,000+\n",
      "Cossack Dictionary (DN) : 10+\n",
      "wikiHow: how to do anything : 1,000,000+\n",
      "Dr. Doug's Tips : 1,000+\n",
      "Bible du Semeur-BDS (French) : 50,000+\n",
      "La citadelle du musulman : 50,000+\n",
      "Officiel du SCRABBLE LAROUSSE : 5,000+\n",
      "DV 2019 Entry Guide : 10,000+\n",
      "DV 2019 - EDV Photo & Form : 50,000+\n",
      "DV 2018 Winners Guide : 1,000+\n",
      "EB Annual Meetings : 1,000+\n",
      "Schlaumeier : 5+\n",
      "EC - AP & Telangana : 5,000+\n",
      "TN Patta Citta & EC : 10,000+\n",
      "AP Stamps and Registration : 10,000+\n",
      "CompactiMa EC pH Calibration : 100+\n",
      "EGW Writings 2 : 100,000+\n",
      "EGW Writings : 1,000,000+\n",
      "Bible with EGW Comments : 100,000+\n",
      "My Little Pony AR Guide : 1,000,000+\n",
      "SDA Sabbath School Quarterly : 500,000+\n",
      "Duaa Ek Ibaadat : 5,000+\n",
      "Spanish English Translator : 10,000,000+\n",
      "Dictionary - Merriam-Webster : 10,000,000+\n",
      "JW Library : 10,000,000+\n",
      "Oxford Dictionary of English : Free : 10,000,000+\n",
      "English Hindi Dictionary : 10,000,000+\n",
      "English to Hindi Dictionary : 5,000,000+\n",
      "O Céu e o Inferno : 500+\n",
      "EP Research Service : 1,000+\n",
      "Hymnes et Louanges : 100,000+\n",
      "EU Charter : 1,000+\n",
      "EU Data Protection : 1,000+\n",
      "EU RCD Guide : 10+\n",
      "EU IP Codes : 100+\n",
      "EW PDF : 5+\n",
      "BakaReader EX : 100,000+\n",
      "EZ Quran : 50,000+\n",
      "FA Part 1 & 2 Past Papers Solved Free – Offline : 5,000+\n",
      "La Fe de Jesus : 1,000+\n",
      "La Fe de Jesús : 500+\n",
      "Le Fe de Jesus : 500+\n",
      "Florida - Pocket Brainbook : 1,000+\n",
      "Florida Statutes (FL Code) : 1,000+\n",
      "FN pistol Model 1906 explained : 10+\n",
      "FN pistol model 1903 explained : 10+\n",
      "The FN \"Baby\" pistol explained : 10+\n",
      "FN FAL rifle explained : 10+\n",
      "The FN HP pistol explained : 10+\n",
      "FN model 1900 pistol explained : 10+\n",
      "Pistolet FN GP35 expliqué : 5+\n",
      "Pistolet FN 1906 expliqué : 10+\n",
      "English To Shona Dictionary : 10,000+\n",
      "Greek Bible FP (Audio) : 1,000+\n",
      "Golden Dictionary (FR-AR) : 500,000+\n",
      "Fanfic-FR : 5,000+\n",
      "Bulgarian French Dictionary Fr : 10,000+\n",
      "Chemin (fr) : 1,000+\n",
      "The SCP Foundation DB fr nn5n : 1,000+\n"
     ]
    }
   ],
   "source": [
    "for app in android_english:\n",
    "    if app[1] == 'BOOKS_AND_REFERENCE':\n",
    "        print(app[0], ':', app[5])"
   ]
  },
  {
   "cell_type": "code",
   "execution_count": 69,
   "metadata": {
    "collapsed": false
   },
   "outputs": [
    {
     "name": "stdout",
     "output_type": "stream",
     "text": [
      "Google Play Books : 1,000,000,000+\n",
      "Bible : 100,000,000+\n",
      "Amazon Kindle : 100,000,000+\n",
      "Wattpad 📖 Free Books : 100,000,000+\n",
      "Audiobooks from Audible : 100,000,000+\n"
     ]
    }
   ],
   "source": [
    "for app in android_english:\n",
    "    if app[1] == 'BOOKS_AND_REFERENCE' and (app[5] == '1,000,000,000+'\n",
    "                                            or app[5] == '500,000,000+'\n",
    "                                            or app[5] == '100,000,000+'):\n",
    "        print(app[0], ':', app[5])"
   ]
  },
  {
   "cell_type": "code",
   "execution_count": 71,
   "metadata": {
    "collapsed": false
   },
   "outputs": [
    {
     "name": "stdout",
     "output_type": "stream",
     "text": [
      "Wikipedia : 10,000,000+\n",
      "Cool Reader : 10,000,000+\n",
      "Book store : 1,000,000+\n",
      "FBReader: Favorite Book Reader : 10,000,000+\n",
      "Free Books - Spirit Fanfiction and Stories : 1,000,000+\n",
      "AlReader -any text book reader : 5,000,000+\n",
      "FamilySearch Tree : 1,000,000+\n",
      "Cloud of Books : 1,000,000+\n",
      "ReadEra – free ebook reader : 1,000,000+\n",
      "Ebook Reader : 5,000,000+\n",
      "Read books online : 5,000,000+\n",
      "eBoox: book reader fb2 epub zip : 1,000,000+\n",
      "All Maths Formulas : 1,000,000+\n",
      "Ancestry : 5,000,000+\n",
      "HTC Help : 10,000,000+\n",
      "Moon+ Reader : 10,000,000+\n",
      "English-Myanmar Dictionary : 1,000,000+\n",
      "Golden Dictionary (EN-AR) : 1,000,000+\n",
      "All Language Translator Free : 1,000,000+\n",
      "Aldiko Book Reader : 10,000,000+\n",
      "Dictionary - WordWeb : 5,000,000+\n",
      "50000 Free eBooks & Free AudioBooks : 5,000,000+\n",
      "Al-Quran (Free) : 10,000,000+\n",
      "Al Quran Indonesia : 10,000,000+\n",
      "Al'Quran Bahasa Indonesia : 10,000,000+\n",
      "Al Quran Al karim : 1,000,000+\n",
      "Al Quran : EAlim - Translations & MP3 Offline : 5,000,000+\n",
      "Koran Read &MP3 30 Juz Offline : 1,000,000+\n",
      "Hafizi Quran 15 lines per page : 1,000,000+\n",
      "Quran for Android : 10,000,000+\n",
      "Satellite AR : 1,000,000+\n",
      "Oxford A-Z of English Usage : 1,000,000+\n",
      "Dictionary.com: Find Definitions for English Words : 10,000,000+\n",
      "English Dictionary - Offline : 10,000,000+\n",
      "Bible KJV : 5,000,000+\n",
      "NOOK: Read eBooks & Magazines : 10,000,000+\n",
      "Brilliant Quotes: Life, Love, Family & Motivation : 1,000,000+\n",
      "Stats Royale for Clash Royale : 1,000,000+\n",
      "Dictionary : 10,000,000+\n",
      "wikiHow: how to do anything : 1,000,000+\n",
      "EGW Writings : 1,000,000+\n",
      "My Little Pony AR Guide : 1,000,000+\n",
      "Spanish English Translator : 10,000,000+\n",
      "Dictionary - Merriam-Webster : 10,000,000+\n",
      "JW Library : 10,000,000+\n",
      "Oxford Dictionary of English : Free : 10,000,000+\n",
      "English Hindi Dictionary : 10,000,000+\n",
      "English to Hindi Dictionary : 5,000,000+\n"
     ]
    }
   ],
   "source": [
    "for app in android_english:\n",
    "    if app[1] == 'BOOKS_AND_REFERENCE' and (app[5] == '1,000,000+'\n",
    "                                            or app[5] == '5,000,000+'\n",
    "                                            or app[5] == '10,000,000+'\n",
    "                                            or app[5] == '50,000,000+'):\n",
    "        print(app[0], ':', app[5])"
   ]
  },
  {
   "cell_type": "markdown",
   "metadata": {},
   "source": [
    "finally finishing the first module and first project"
   ]
  }
 ],
 "metadata": {
  "kernelspec": {
   "display_name": "Python 3",
   "language": "python",
   "name": "python3"
  },
  "language_info": {
   "codemirror_mode": {
    "name": "ipython",
    "version": 3
   },
   "file_extension": ".py",
   "mimetype": "text/x-python",
   "name": "python",
   "nbconvert_exporter": "python",
   "pygments_lexer": "ipython3",
   "version": "3.4.3"
  }
 },
 "nbformat": 4,
 "nbformat_minor": 2
}
